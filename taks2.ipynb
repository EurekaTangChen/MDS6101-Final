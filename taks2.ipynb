{
 "cells": [
  {
   "cell_type": "code",
   "execution_count": null,
   "metadata": {},
   "outputs": [],
   "source": [
    "import numpy as np\n",
    "from matplotlib import pyplot as plt\n",
    "from PIL import Image\n",
    "from scipy import sparse"
   ]
  },
  {
   "cell_type": "code",
   "execution_count": null,
   "metadata": {},
   "outputs": [],
   "source": [
    "def get_D(m, n):\n",
    "    mn = m * n\n",
    "    ones_mnm = - np.append(np.ones(mn-m), np.zeros(m))\n",
    "    ones_mm = - np.append(np.ones(m-1), [0])\n",
    "\n",
    "    data = np.vstack((ones_mnm, np.ones(mn)))\n",
    "    dgs = np.array([0, m])\n",
    "    Dx = sparse.spdiags(data, dgs, mn, mn)\n",
    "\n",
    "    data = np.vstack((ones_mm, np.ones(m)))\n",
    "    dgs = np.array([0, 1])\n",
    "    Dy_Base = sparse.spdiags(data, dgs, m, m)\n",
    "    Dy = sparse.kron(sparse.eye(n), Dy_Base)\n",
    "\n",
    "    D = sparse.vstack((Dx, Dy))\n",
    "\n",
    "    return D"
   ]
  },
  {
   "cell_type": "code",
   "execution_count": null,
   "metadata": {},
   "outputs": [],
   "source": [
    "def get_P(mask):\n",
    "    m, n = mask.shape\n",
    "    mask = mask.flatten()\n",
    "    s = int(np.sum(mask))\n",
    "    count = 0\n",
    "    P = sparse.lil_matrix((s, m*n))\n",
    "    for i, num in enumerate(mask.flatten()):\n",
    "        if num == 1:\n",
    "            P[count, i] = 1\n",
    "            count += 1\n",
    "    P = sparse.csc_matrix(P)\n",
    "    return P"
   ]
  },
  {
   "cell_type": "code",
   "execution_count": null,
   "metadata": {},
   "outputs": [],
   "source": [
    "def f2(P, D, x, b, mu):\n",
    "    return 1/2*(np.linalg.norm(P @ x - b))**2 + mu/2*np.linalg.norm(D@x)**2"
   ]
  },
  {
   "cell_type": "code",
   "execution_count": null,
   "metadata": {},
   "outputs": [],
   "source": [
    "def df(H,x,b):\n",
    "    return H@x-b"
   ]
  },
  {
   "cell_type": "code",
   "execution_count": null,
   "metadata": {},
   "outputs": [],
   "source": [
    "def ddf(P,D,mu):\n",
    "    H=(P.T@P)+mu*(D.T@D)\n",
    "    return H"
   ]
  },
  {
   "cell_type": "code",
   "execution_count": null,
   "metadata": {},
   "outputs": [],
   "source": [
    "def rho(k):\n",
    "    return 1/np.log(k)"
   ]
  },
  {
   "cell_type": "code",
   "execution_count": null,
   "metadata": {},
   "outputs": [],
   "source": [
    "def Newton_CG_Method(P,D,x_0,b,mu,sigma,gamma,epsilon,maxit):\n",
    "    H=ddf(P,D,mu)\n",
    "    c=P.T@b\n",
    "    x=x_0\n",
    "    norm=np.linalg.norm(H@x-c)\n",
    "    it=1\n",
    "    while(norm>epsilon and it<maxit):\n",
    "        tol=rho(it+1)*norm\n",
    "        v=np.zeros(len(x_0))\n",
    "        r=H@x-c\n",
    "        p=-r\n",
    "        while(True):\n",
    "            pHp=p.T@H@p\n",
    "            if pHp<=0:\n",
    "                if np.linalg.norm(v)!=0:\n",
    "                    d=v\n",
    "                else:\n",
    "                    d=p\n",
    "                break\n",
    "            sigma_j=(np.linalg.norm(r)**2)/pHp\n",
    "            v += sigma_j*p\n",
    "            new_r = r + sigma_j*H@p\n",
    "            temp_r_norm = np.linalg.norm(new_r)\n",
    "            if temp_r_norm<=tol:\n",
    "                d=v\n",
    "                break\n",
    "            beta=(temp_r_norm**2)/(np.linalg.norm(r)**2)\n",
    "            p = -new_r+beta*p\n",
    "            r = new_r\n",
    "        alpha = 1\n",
    "        dfd = df(H, x, c) @ d\n",
    "        while(f2(P, D, x+alpha*d, b, mu)) - f2(P, D, x, b, mu) > gamma*alpha*dfd:\n",
    "            alpha *= sigma\n",
    "        x += alpha*d\n",
    "        norm=np.linalg.norm(H@x-c)\n",
    "        it += 1\n",
    "    print('iterations: {}'.format(it))\n",
    "    return x.copy()"
   ]
  },
  {
   "cell_type": "code",
   "execution_count": null,
   "metadata": {},
   "outputs": [],
   "source": [
    "def compare_plot(img, reconstruct, mask):\n",
    "    plt.figure(figsize=(12, 10))\n",
    "    plt.subplot(1, 3, 1)\n",
    "    plt.imshow(img, cmap='viridis')\n",
    "    plt.title(\"Original Image\")\n",
    "    plt.axis('off')\n",
    "    \n",
    "    plt.subplot(1, 3, 2)\n",
    "    plt.imshow(img, cmap='viridis')\n",
    "    plt.imshow(mask, alpha=0.5)\n",
    "    plt.title(\"Image with Inpainting Mask\")\n",
    "    plt.axis('off')\n",
    "    \n",
    "    plt.subplot(1, 3, 3)\n",
    "    plt.imshow(reconstruct, cmap='viridis')\n",
    "    plt.title(\"Reconstructed Image\")\n",
    "    plt.axis('off')\n",
    "    plt.show()"
   ]
  },
  {
   "cell_type": "code",
   "execution_count": null,
   "metadata": {},
   "outputs": [],
   "source": [
    "im = Image.open('test_images/640_640_tiger.png').convert('L')\n",
    "img = np.array(im)\n",
    "img = img.astype(np.float64) \n",
    "\n",
    "ms = Image.open('test_masks/640_640_handwriting.png').convert('L') \n",
    "mask = np.array(ms)\n",
    "mask = mask.astype(np.float64) \n",
    "mask[mask > 0] = 1\n",
    "\n",
    "m, n = img.shape\n",
    "P = get_P(mask)\n",
    "D = get_D(m, n)\n",
    "x_0 = np.zeros(m*n)\n",
    "b = P @ img.flatten()\n",
    "mu = 0.01\n",
    "sigma = 0.5\n",
    "gamma = 0.1\n",
    "epsilon = 1e-4\n",
    "maxit = 100\n",
    "sol = Newton_CG_Method(P,D,x_0,b,mu,sigma,gamma,epsilon,maxit).reshape((m, n))\n",
    "\n",
    "compare_plot(img, sol, mask)"
   ]
  },
  {
   "cell_type": "code",
   "execution_count": null,
   "metadata": {},
   "outputs": [],
   "source": [
    "import cv2\n",
    "img = cv2.imread('test_images/2048_2048_mountain.jpg')\n",
    "#img = cv2.cvtColor(img, cv2.COLOR_BGR2RGB)\n",
    "img = np.array(img) / 255\n",
    "img_r, img_g, img_b = img[:, :, 0], img[:, :, 1], img[:, :, 2]\n",
    "\n",
    "\n",
    "ms = Image.open('test_masks/512_512_handwriting.png').convert('L') \n",
    "mask = np.array(ms)\n",
    "mask = mask.astype(np.float64) \n",
    "mask[mask > 0] = 1\n",
    "mask = np.tile(mask, (4, 4))\n",
    "\n",
    "m, n, _ = img.shape\n",
    "P = get_P(mask)\n",
    "D = get_D(m, n)\n",
    "x_0 = np.zeros(m*n)\n",
    "b = P @ img_r.flatten()\n",
    "sol_r = Newton_CG_Method(P,D,x_0,b,mu,sigma,gamma,epsilon,maxit).reshape((m, n))\n",
    "b = P @ img_g.flatten()\n",
    "sol_g = Newton_CG_Method(P,D,x_0,b,mu,sigma,gamma,epsilon,maxit).reshape((m, n))\n",
    "b = P @ img_b.flatten()\n",
    "sol_b = Newton_CG_Method(P,D,x_0,b,mu,sigma,gamma,epsilon,maxit).reshape((m, n))\n",
    "sol = np.stack([sol_r, sol_g, sol_b], axis=-1)\n",
    "\n",
    "compare_plot(img, sol, mask)"
   ]
  },
  {
   "cell_type": "code",
   "execution_count": null,
   "metadata": {},
   "outputs": [],
   "source": [
    "import cv2\n",
    "img = cv2.imread('test_images/640_640_rainbow.png')\n",
    "img = cv2.cvtColor(img, cv2.COLOR_BGR2RGB)\n",
    "img = np.array(img) / 255\n",
    "img_r, img_g, img_b = img[:, :, 0], img[:, :, 1], img[:, :, 2]\n",
    "\n",
    "\n",
    "ms = Image.open('test_masks/640_640_handwriting.png').convert('L') \n",
    "mask = np.array(ms)\n",
    "mask = mask.astype(np.float64) \n",
    "mask[mask > 0] = 1\n",
    "\n",
    "m, n, _ = img.shape\n",
    "P = get_P(mask)\n",
    "D = get_D(m, n)\n",
    "x_0 = np.zeros(m*n)\n",
    "sol_r = Newton_CG_Method(P,D,x_0, P @ img_r.flatten() ,mu,sigma,gamma,epsilon,maxit).reshape((m, n))\n",
    "sol_g = Newton_CG_Method(P,D,x_0, P @ img_g.flatten() ,mu,sigma,gamma,epsilon,maxit).reshape((m, n))\n",
    "sol_b = Newton_CG_Method(P,D,x_0, P @ img_b.flatten() ,mu,sigma,gamma,epsilon,maxit).reshape((m, n))\n",
    "sol = np.stack([sol_r, sol_g, sol_b], axis=-1)\n",
    "\n",
    "compare_plot(img, sol, mask)"
   ]
  }
 ],
 "metadata": {
  "kernelspec": {
   "display_name": "RL",
   "language": "python",
   "name": "python3"
  },
  "language_info": {
   "codemirror_mode": {
    "name": "ipython",
    "version": 3
   },
   "file_extension": ".py",
   "mimetype": "text/x-python",
   "name": "python",
   "nbconvert_exporter": "python",
   "pygments_lexer": "ipython3",
   "version": "3.9.18"
  }
 },
 "nbformat": 4,
 "nbformat_minor": 2
}
